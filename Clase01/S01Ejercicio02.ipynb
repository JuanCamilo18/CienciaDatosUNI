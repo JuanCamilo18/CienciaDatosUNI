{
 "cells": [
  {
   "cell_type": "markdown",
   "metadata": {},
   "source": [
    "1. Calcular el área de un triángulo utilizando la fórmula: \n",
    "\n",
    "Area = (base * altura) / 2"
   ]
  },
  {
   "cell_type": "code",
   "execution_count": 3,
   "metadata": {},
   "outputs": [
    {
     "name": "stdout",
     "output_type": "stream",
     "text": [
      "El área del triángulo es:  6.0\n"
     ]
    }
   ],
   "source": [
    "## Solucion 01:\n",
    "base = 4\n",
    "altura = 3\n",
    "print(\"El área del triángulo es: \", base*altura/2)\n"
   ]
  },
  {
   "cell_type": "markdown",
   "metadata": {},
   "source": [
    "2. Solicita al usuario que ingrese la base y altura del triangulo, y luego muestra el área calculada."
   ]
  },
  {
   "cell_type": "code",
   "execution_count": 6,
   "metadata": {},
   "outputs": [
    {
     "name": "stdout",
     "output_type": "stream",
     "text": [
      "El area del triangulo es:  15.0\n"
     ]
    }
   ],
   "source": [
    "## Solucion 02:\n",
    "base = float(input(\"Ingrese la base del triangulo: \"))\n",
    "altura = float(input(\"Ingrese la altura del triangulo: \"))\n",
    "area_tria = base*altura/2\n",
    "print(\"El area del triangulo es: \", area_tria)"
   ]
  },
  {
   "cell_type": "markdown",
   "metadata": {},
   "source": [
    "**Nivel 02:**\n",
    "\n",
    "***Ejercicio 03:***\n",
    "\n",
    "Calcular la velocidad de escape necesaria para que un objeto abandone la atmosfera terrestre. La velocidad de escape se calcula utilizando la formula:\n",
    "\n",
    "$$ V = \\sqrt{\\frac{2*G*M}{r}}$$\n",
    "\n",
    "Donde:\n",
    "V es la velocidad de escape en metros por segundo (m/s).\n",
    "\n",
    "G es la constante gravitacional universal, con un valor de 6.67430x10-116.67430x10-11 $m^3$/(kg*$S^2$).\n",
    "\n",
    "M es la masa de la Tierra, con un valor aproximado de 5.972x10245.972x1024 kg.\n",
    "\n",
    "r es la radio de la Tierra en metros, con un valor aproximado de 6.371 x 1066.371  106 m.\n"
   ]
  },
  {
   "cell_type": "code",
   "execution_count": 9,
   "metadata": {},
   "outputs": [
    {
     "name": "stdout",
     "output_type": "stream",
     "text": [
      "La velocidad de escape necesaria para salir de la atmosfera terrestre desde una altitud de  1000.0 metros es de  11185.1 metros por segundo.\n"
     ]
    }
   ],
   "source": [
    "## Solucion 03:\n",
    "import math\n",
    "g = 6.67430e-11\n",
    "m = 5.972e24\n",
    "r = 6.371e6\n",
    "\n",
    "# Solicitar al usuario la altitud sobre la superficie de la Tierra\n",
    "altitud = float(input(\"Ingresar la altitud sobre la superficie de la Tierra (en metros): \"))\n",
    "\n",
    "# Calcular el radio desde el centro de la Tierra hasta la altitud dada\n",
    "radio_desde_centro = r + altitud\n",
    "\n",
    "# Calcular la velocidad de escape utilizando la formula\n",
    "velocidad_escape = math.sqrt(2*g*m/radio_desde_centro) \n",
    "velocidad_escape = round(velocidad_escape,2)\n",
    "\n",
    "# Mostrarla velocidad de escape\n",
    "print(\"La velocidad de escape necesaria para salir de la atmosfera terrestre desde una altitud de \", \n",
    "      altitud, \"metros es de \", velocidad_escape, \"metros por segundo.\")"
   ]
  },
  {
   "cell_type": "markdown",
   "metadata": {},
   "source": []
  }
 ],
 "metadata": {
  "kernelspec": {
   "display_name": "Python 3",
   "language": "python",
   "name": "python3"
  },
  "language_info": {
   "codemirror_mode": {
    "name": "ipython",
    "version": 3
   },
   "file_extension": ".py",
   "mimetype": "text/x-python",
   "name": "python",
   "nbconvert_exporter": "python",
   "pygments_lexer": "ipython3",
   "version": "3.11.9"
  }
 },
 "nbformat": 4,
 "nbformat_minor": 2
}
